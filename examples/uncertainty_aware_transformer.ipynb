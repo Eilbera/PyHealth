{
 "cells": [
  {
   "cell_type": "code",
   "execution_count": 7,
   "id": "4055c874-fd3e-46a3-a333-705c1bf4e6d4",
   "metadata": {},
   "outputs": [],
   "source": [
    "import os\n",
    "os.chdir(\"/workspace/PyHealth\")"
   ]
  },
  {
   "cell_type": "code",
   "execution_count": 12,
   "id": "f7a10243-04b7-4d68-afef-cad27ad6b6f3",
   "metadata": {
    "scrolled": true
   },
   "outputs": [],
   "source": [
    "# !pip install -r requirements.txt\n",
    "# !pip install tqdm pydantic typing_extensions>=4.5.0"
   ]
  },
  {
   "cell_type": "markdown",
   "id": "42668440-b728-4d02-b862-fe2c7b239991",
   "metadata": {},
   "source": [
    "## This script loads in the medical transcription dataset, defines the prompt template for labeling, initializes uncertainty aware, and runs batch predications"
   ]
  },
  {
   "cell_type": "code",
   "execution_count": null,
   "id": "12e17d3f-4b10-4c55-8c46-2fc179f26c95",
   "metadata": {},
   "outputs": [
    {
     "name": "stdout",
     "output_type": "stream",
     "text": [
      "No config path provided, using default config\n",
      "Initializing medical_transcriptions dataset from . (dev mode: False)\n",
      "Scanning table: mtsamples from /workspace/PyHealth/mtsamples.csv\n",
      "Setting task MedicalTranscriptionsClassification for medical_transcriptions base dataset...\n",
      "Collecting global event dataframe...\n",
      "Collected dataframe with shape: (4999, 8)\n",
      "Generating samples with 8 worker(s)...\n",
      "Generating samples for MedicalTranscriptionsClassification\n",
      "Label medical_specialty vocab: {' Allergy / Immunology': 0, ' Autopsy': 1, ' Bariatrics': 2, ' Cardiovascular / Pulmonary': 3, ' Chiropractic': 4, ' Consult - History and Phy.': 5, ' Cosmetic / Plastic Surgery': 6, ' Dentistry': 7, ' Dermatology': 8, ' Diets and Nutritions': 9, ' Discharge Summary': 10, ' ENT - Otolaryngology': 11, ' Emergency Room Reports': 12, ' Endocrinology': 13, ' Gastroenterology': 14, ' General Medicine': 15, ' Hematology - Oncology': 16, ' Hospice - Palliative Care': 17, ' IME-QME-Work Comp etc.': 18, ' Lab Medicine - Pathology': 19, ' Letters': 20, ' Nephrology': 21, ' Neurology': 22, ' Neurosurgery': 23, ' Obstetrics / Gynecology': 24, ' Office Notes': 25, ' Ophthalmology': 26, ' Orthopedic': 27, ' Pain Management': 28, ' Pediatrics - Neonatal': 29, ' Physical Medicine - Rehab': 30, ' Podiatry': 31, ' Psychiatry / Psychology': 32, ' Radiology': 33, ' Rheumatology': 34, ' SOAP / Chart / Progress Notes': 35, ' Sleep Medicine': 36, ' Speech - Language': 37, ' Surgery': 38, ' Urology': 39}\n"
     ]
    },
    {
     "name": "stderr",
     "output_type": "stream",
     "text": [
      "Processing samples: 100%|██████████| 4966/4966 [00:00<00:00, 117494.93it/s]"
     ]
    },
    {
     "name": "stdout",
     "output_type": "stream",
     "text": [
      "Generated 4966 samples for task MedicalTranscriptionsClassification\n"
     ]
    },
    {
     "name": "stderr",
     "output_type": "stream",
     "text": [
      "\n",
      "Sliding Window Attention is enabled but not implemented for `eager`; unexpected results may be encountered.\n"
     ]
    },
    {
     "data": {
      "application/vnd.jupyter.widget-view+json": {
       "model_id": "eae44ab618384af1bed9e76dbcdf2fc2",
       "version_major": 2,
       "version_minor": 0
      },
      "text/plain": [
       "Loading checkpoint shards:   0%|          | 0/2 [00:00<?, ?it/s]"
      ]
     },
     "metadata": {},
     "output_type": "display_data"
    },
    {
     "name": "stderr",
     "output_type": "stream",
     "text": [
      "Zero-shot generate:  49%|████▉     | 49/100 [02:35<02:41,  3.17s/it]"
     ]
    }
   ],
   "source": [
    "from pyhealth.datasets import MedicalTranscriptionsDataset\n",
    "from pyhealth.models.uncertainty_aware_transformer import UncertaintyAwareZeroShotClassifier\n",
    "\n",
    "ds = MedicalTranscriptionsDataset(root=\".\")\n",
    "ds = ds.set_task()               # any classification task works\n",
    "\n",
    "prompt = (\n",
    "            \"System: You are a medical text classifier.\\n\"\n",
    "            \"User: Classify the following clinical note into **one** most likely matching label \"\n",
    "            \"from the list below and reply with only that label and nothing else.\\n\\n\"\n",
    "            \"Possible labels:\\n{labels}\\n\\n\"\n",
    "            \"Clinical note:\\n{text}\\n\\n\"\n",
    "            \"Answer:\"\n",
    "        )\n",
    "\n",
    "uazs = UncertaintyAwareZeroShotClassifier(ds, model_name=\"Qwen/Qwen2.5-3B-Instruct\", batch_size=16, cache_dir = \"./.hf_cache\", prompt_template = prompt)\n",
    "\n",
    "uazs.predict_dataset(max_batches=100)\n"
   ]
  },
  {
   "cell_type": "markdown",
   "id": "3bdcc644-dba9-487f-8735-697c5889fba8",
   "metadata": {},
   "source": [
    "## This retrieves model prediction and computes intial accuracy "
   ]
  },
  {
   "cell_type": "code",
   "execution_count": 2,
   "id": "9e4e4916-3d54-4084-b17d-a95b1476406c",
   "metadata": {},
   "outputs": [
    {
     "name": "stdout",
     "output_type": "stream",
     "text": [
      "Initial Accuracy: 0.2150)\n"
     ]
    }
   ],
   "source": [
    "results = uazs.results\n",
    "results_acc = sum(x[\"prediction\"] == x[\"gt\"] for x in results) / len(results)\n",
    "\n",
    "print(f\"Initial Accuracy: {results_acc:.4f})\")"
   ]
  },
  {
   "cell_type": "markdown",
   "id": "85eab145-50f7-4527-acd8-eb648722abe9",
   "metadata": {},
   "source": [
    "## This section selects top 10% most uncertain predictions, computes accuracy on uncertain ones and remaining ones"
   ]
  },
  {
   "cell_type": "code",
   "execution_count": 3,
   "id": "1c48149d-c8e5-460a-8a66-4aae98e05d15",
   "metadata": {},
   "outputs": [
    {
     "name": "stdout",
     "output_type": "stream",
     "text": [
      "Top-k Uncertain Accuracy: 0.1938\n",
      "Remaining Accuracy: 0.2174\n"
     ]
    }
   ],
   "source": [
    "frac = .1\n",
    "top_samples, remaining_samples = uazs.get_uncertain(k=frac) # % most uncertain\n",
    "\n",
    "# Accuracy for top uncertain samples\n",
    "top_acc = sum(x[\"prediction\"] == x[\"gt\"] for x in top_samples) / len(top_samples)\n",
    "\n",
    "# Accuracy for remaining samples\n",
    "rest_acc = sum(x[\"prediction\"] == x[\"gt\"] for x in remaining_samples) / len(remaining_samples)\n",
    "\n",
    "print(f\"Top-k Uncertain Accuracy: {top_acc:.4f}\")\n",
    "print(f\"Remaining Accuracy: {rest_acc:.4f}\")"
   ]
  },
  {
   "cell_type": "code",
   "execution_count": 4,
   "id": "e03cbb4a-bf38-4e5e-aba4-4c3d19fa1982",
   "metadata": {
    "scrolled": true
   },
   "outputs": [],
   "source": [
    "random_dataset_subset, random_rest, sm_idx, bg_idx = uazs.get_random_datasets(k=frac) # randomly sampled for control\n",
    "uncertain_dataset, uncertain_rest = uazs.get_uncertain_datasets(k=frac) # % most uncertain"
   ]
  },
  {
   "cell_type": "markdown",
   "id": "14e6f530-1b20-46fd-b429-9c6f0b1ebe39",
   "metadata": {},
   "source": [
    "# Control:"
   ]
  },
  {
   "cell_type": "markdown",
   "id": "7f700700-f769-48e5-b6c2-952a66dd93a3",
   "metadata": {},
   "source": [
    "## Initialize new uncertainty aware classifier on random control subset, calculate accuracy on cheaper and more expensive model, get the blended accuracy"
   ]
  },
  {
   "cell_type": "code",
   "execution_count": 5,
   "id": "ac99bfad-3ebf-4884-81a2-4055d0b7718f",
   "metadata": {},
   "outputs": [
    {
     "data": {
      "application/vnd.jupyter.widget-view+json": {
       "model_id": "49b51f5432414499a3aa05ad45abc64c",
       "version_major": 2,
       "version_minor": 0
      },
      "text/plain": [
       "Loading checkpoint shards:   0%|          | 0/4 [00:00<?, ?it/s]"
      ]
     },
     "metadata": {},
     "output_type": "display_data"
    },
    {
     "name": "stderr",
     "output_type": "stream",
     "text": [
      "Zero-shot generate: 100%|██████████| 40/40 [00:41<00:00,  1.05s/it]\n"
     ]
    }
   ],
   "source": [
    "uazs_random = UncertaintyAwareZeroShotClassifier(random_dataset_subset, model_name=\"Qwen/Qwen2.5-7B-Instruct\", batch_size=4, cache_dir = \"./.hf_cache\", prompt_template = prompt)\n",
    "\n",
    "uazs_random.predict_dataset()"
   ]
  },
  {
   "cell_type": "code",
   "execution_count": null,
   "id": "217d6b70-46b6-4077-b9e2-7e848b6ee0db",
   "metadata": {},
   "outputs": [],
   "source": []
  },
  {
   "cell_type": "code",
   "execution_count": 6,
   "id": "eb0d42ef-168e-426d-8e42-f5b9bb17cb68",
   "metadata": {},
   "outputs": [
    {
     "name": "stdout",
     "output_type": "stream",
     "text": [
      "Random Subset Expensive Model Accuracy: 0.3063\n",
      "Remainder Cheap Model Accuracy: 0.2104\n"
     ]
    }
   ],
   "source": [
    "results_random = uazs_random.results\n",
    "\n",
    "results_acc_random = sum(x[\"prediction\"] == x[\"gt\"] for x in results_random) / len(results_random)\n",
    "rest_acc_random  = sum(r[\"prediction\"] == r[\"gt\"] for r in bg_idx) / len(bg_idx)\n",
    "\n",
    "print(f\"Random Subset Expensive Model Accuracy: {results_acc_random:.4f}\")\n",
    "print(f\"Remainder Cheap Model Accuracy: {rest_acc_random:.4f}\")"
   ]
  },
  {
   "cell_type": "code",
   "execution_count": 7,
   "id": "e8db2c64-8c89-48e6-b836-81bc73f25a66",
   "metadata": {},
   "outputs": [
    {
     "name": "stdout",
     "output_type": "stream",
     "text": [
      "Blended accuracy: 0.2200\n"
     ]
    }
   ],
   "source": [
    "subset_idx = {r[\"index\"] for r in uazs_random.results}\n",
    "\n",
    "correct_big   = sum(r[\"prediction\"] == r[\"gt\"] for r in uazs_random.results)\n",
    "correct_rest  = sum(r[\"prediction\"] == r[\"gt\"] for r in bg_idx)\n",
    "\n",
    "blended_acc = (correct_big + correct_rest) / len(uazs.results)\n",
    "print(f\"Blended accuracy: {blended_acc:.4f}\")"
   ]
  },
  {
   "cell_type": "markdown",
   "id": "a6fe7fb7-8de9-4dfa-9fa3-b9a68bfffcfa",
   "metadata": {},
   "source": [
    "# Uncertainty Aware:"
   ]
  },
  {
   "cell_type": "markdown",
   "id": "b340f506-df45-4c0f-baf0-3bee331a72db",
   "metadata": {},
   "source": [
    "## Initialize new uncertainty aware classifier on uncertain dateset, runs cheaper and more expensive model, get blended accuracy  "
   ]
  },
  {
   "cell_type": "code",
   "execution_count": 8,
   "id": "c6420909-94f0-4cae-89e0-b35051361c90",
   "metadata": {},
   "outputs": [
    {
     "data": {
      "application/vnd.jupyter.widget-view+json": {
       "model_id": "84406a0282394a94850634f756e9017f",
       "version_major": 2,
       "version_minor": 0
      },
      "text/plain": [
       "Loading checkpoint shards:   0%|          | 0/4 [00:00<?, ?it/s]"
      ]
     },
     "metadata": {},
     "output_type": "display_data"
    },
    {
     "name": "stderr",
     "output_type": "stream",
     "text": [
      "Zero-shot generate: 100%|██████████| 20/20 [00:43<00:00,  2.19s/it]\n"
     ]
    }
   ],
   "source": [
    "uazs_big = UncertaintyAwareZeroShotClassifier(uncertain_dataset, model_name=\"Qwen/Qwen2.5-7B-Instruct\", batch_size=8, cache_dir = \"./.hf_cache\", prompt_template = prompt)\n",
    "\n",
    "uazs_big.predict_dataset()"
   ]
  },
  {
   "cell_type": "code",
   "execution_count": 9,
   "id": "f8c36bfb-ad09-4f6d-87cc-d1fd2bbafc2c",
   "metadata": {},
   "outputs": [
    {
     "name": "stdout",
     "output_type": "stream",
     "text": [
      "Original Model Accuracy on Originally Uncertain Samples: 0.1938\n",
      "Expensive Model Accuracy on Originally Uncertain Samples: 0.3187\n"
     ]
    }
   ],
   "source": [
    "results_big = uazs_big.results\n",
    "\n",
    "results_acc_big = sum(x[\"prediction\"] == x[\"gt\"] for x in results_big) / len(results_big)\n",
    "\n",
    "print(f\"Original Model Accuracy on Originally Uncertain Samples: {top_acc:.4f}\")\n",
    "print(f\"Expensive Model Accuracy on Originally Uncertain Samples: {results_acc_big:.4f}\")"
   ]
  },
  {
   "cell_type": "code",
   "execution_count": 10,
   "id": "87117f9c-6192-4fd7-a2f6-5ce499ca169a",
   "metadata": {},
   "outputs": [
    {
     "name": "stdout",
     "output_type": "stream",
     "text": [
      "Blended Uncertainty Aware Accuracy: 0.2275)\n"
     ]
    }
   ],
   "source": [
    "blended_acc = (results_acc_big * len(results_big) + rest_acc * len(remaining_samples)) / (len(results_big) + len(remaining_samples))\n",
    "print(f\"Blended Uncertainty Aware Accuracy: {blended_acc:.4f})\")"
   ]
  },
  {
   "cell_type": "code",
   "execution_count": null,
   "id": "9a82b53e-e806-4d65-95b6-490750a598b3",
   "metadata": {},
   "outputs": [],
   "source": []
  }
 ],
 "metadata": {
  "kernelspec": {
   "display_name": "Python 3 (ipykernel)",
   "language": "python",
   "name": "python3"
  },
  "language_info": {
   "codemirror_mode": {
    "name": "ipython",
    "version": 3
   },
   "file_extension": ".py",
   "mimetype": "text/x-python",
   "name": "python",
   "nbconvert_exporter": "python",
   "pygments_lexer": "ipython3",
   "version": "3.10.12"
  }
 },
 "nbformat": 4,
 "nbformat_minor": 5
}
